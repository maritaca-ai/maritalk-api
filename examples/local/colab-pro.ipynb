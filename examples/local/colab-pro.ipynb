{
  "nbformat": 4,
  "nbformat_minor": 0,
  "metadata": {
    "colab": {
      "provenance": [],
      "machine_shape": "hm",
      "gpuType": "A100",
      "toc_visible": true
    },
    "kernelspec": {
      "name": "python3",
      "display_name": "Python 3"
    },
    "language_info": {
      "name": "python"
    },
    "accelerator": "GPU"
  },
  "cells": [
    {
      "cell_type": "markdown",
      "source": [
        "# MariTalk Local\n",
        "\n",
        "Este notebook mostra como utilizar a MariTalk Local, que é a versão para deploy on-premises da [MariTalk](https://chat.maritaca.ai/). Para executar a API é necessário possuir uma licença, que pode ser obtida [neste link](https://chat.maritaca.ai/checkout/maritalk-small).\n",
        "\n",
        "MariTalk Local suporta apenas GPUs Nvidia da arquitetura Ampere (A10, A100, A6000, etc). Assim, para executar no Google Colab, é necessário possuir Colab Pro para utilizar uma Nvidia A100 40GB."
      ],
      "metadata": {
        "id": "xc8k8pDJ769n"
      }
    },
    {
      "cell_type": "markdown",
      "source": [
        "### Instalação"
      ],
      "metadata": {
        "id": "hu30FsG-hIdv"
      }
    },
    {
      "cell_type": "code",
      "execution_count": null,
      "metadata": {
        "id": "24GmM8RwpQzR"
      },
      "outputs": [],
      "source": [
        "!python -m pip install maritalk -q"
      ]
    },
    {
      "cell_type": "code",
      "source": [
        "!nvidia-smi"
      ],
      "metadata": {
        "id": "YBUV1UaaEqw8",
        "colab": {
          "base_uri": "https://localhost:8080/"
        },
        "outputId": "77631173-7f0c-46f3-d132-1afa74b86f4b"
      },
      "execution_count": null,
      "outputs": [
        {
          "output_type": "stream",
          "name": "stdout",
          "text": [
            "Wed Nov 22 17:10:44 2023       \n",
            "+-----------------------------------------------------------------------------+\n",
            "| NVIDIA-SMI 525.105.17   Driver Version: 525.105.17   CUDA Version: 12.0     |\n",
            "|-------------------------------+----------------------+----------------------+\n",
            "| GPU  Name        Persistence-M| Bus-Id        Disp.A | Volatile Uncorr. ECC |\n",
            "| Fan  Temp  Perf  Pwr:Usage/Cap|         Memory-Usage | GPU-Util  Compute M. |\n",
            "|                               |                      |               MIG M. |\n",
            "|===============================+======================+======================|\n",
            "|   0  NVIDIA A100-SXM...  Off  | 00000000:00:04.0 Off |                    0 |\n",
            "| N/A   34C    P0    55W / 400W |      0MiB / 40960MiB |      0%      Default |\n",
            "|                               |                      |             Disabled |\n",
            "+-------------------------------+----------------------+----------------------+\n",
            "                                                                               \n",
            "+-----------------------------------------------------------------------------+\n",
            "| Processes:                                                                  |\n",
            "|  GPU   GI   CI        PID   Type   Process name                  GPU Memory |\n",
            "|        ID   ID                                                   Usage      |\n",
            "|=============================================================================|\n",
            "|  No running processes found                                                 |\n",
            "+-----------------------------------------------------------------------------+\n"
          ]
        }
      ]
    },
    {
      "cell_type": "code",
      "source": [
        "!lsb_release -a"
      ],
      "metadata": {
        "colab": {
          "base_uri": "https://localhost:8080/"
        },
        "id": "6cyB08BmErt_",
        "outputId": "0c3ecdfc-e995-4d80-e67d-5fb07f7e3c34"
      },
      "execution_count": null,
      "outputs": [
        {
          "output_type": "stream",
          "name": "stdout",
          "text": [
            "No LSB modules are available.\n",
            "Distributor ID:\tUbuntu\n",
            "Description:\tUbuntu 22.04.3 LTS\n",
            "Release:\t22.04\n",
            "Codename:\tjammy\n"
          ]
        }
      ]
    },
    {
      "cell_type": "markdown",
      "source": [
        "### Geração"
      ],
      "metadata": {
        "id": "zNdG6bJKhQDG"
      }
    },
    {
      "cell_type": "code",
      "source": [
        "# @title Insira sua licença\n",
        "license = \"AAAAA-BBBBB-CCCCC-DDDDD\" # @param {type:\"string\"}"
      ],
      "metadata": {
        "cellView": "form",
        "id": "XxK-ZnAvgt6p"
      },
      "execution_count": null,
      "outputs": []
    },
    {
      "cell_type": "code",
      "source": [
        "import maritalk\n",
        "client = maritalk.MariTalkLocal()\n",
        "client.start_server(license=license)"
      ],
      "metadata": {
        "colab": {
          "base_uri": "https://localhost:8080/"
        },
        "id": "RhXMrUDyEsmV",
        "outputId": "d14028eb-30b1-42da-a0f8-c7d9970e7764"
      },
      "execution_count": null,
      "outputs": [
        {
          "output_type": "stream",
          "name": "stdout",
          "text": [
            "Downloading MariTalk-small (path: /root/bin/maritalk)...\n"
          ]
        },
        {
          "output_type": "stream",
          "name": "stderr",
          "text": [
            "/root/bin/maritalk: 100%|██████████| 4.09G/4.09G [04:59<00:00, 13.7MB/s]\n"
          ]
        },
        {
          "output_type": "stream",
          "name": "stdout",
          "text": [
            "Starting MariTalk Local API at http://localhost:9000\n"
          ]
        }
      ]
    },
    {
      "cell_type": "code",
      "source": [
        "client.status()"
      ],
      "metadata": {
        "colab": {
          "base_uri": "https://localhost:8080/"
        },
        "id": "LaAnOP9wegTo",
        "outputId": "e962f129-8bc7-4b33-eef2-5c204e9c67a6"
      },
      "execution_count": null,
      "outputs": [
        {
          "output_type": "execute_result",
          "data": {
            "text/plain": [
              "{'status': 'idle'}"
            ]
          },
          "metadata": {},
          "execution_count": 9
        }
      ]
    },
    {
      "cell_type": "code",
      "source": [
        "messages = [\n",
        "    {\"role\": \"user\", \"content\": \"sugira três nomes para a minha cachorra\"},\n",
        "    {\"role\": \"assistant\", \"content\": \"nina, bela e luna.\"},\n",
        "    {\"role\": \"user\", \"content\": \"e para o meu peixe?\"},\n",
        "]\n",
        "print(client.generate_chat(messages)['output'])"
      ],
      "metadata": {
        "colab": {
          "base_uri": "https://localhost:8080/"
        },
        "id": "iLg-Vf0GgDFT",
        "outputId": "964c3e1e-0dba-4531-e4fa-b79519d9b0ee"
      },
      "execution_count": null,
      "outputs": [
        {
          "output_type": "stream",
          "name": "stdout",
          "text": [
            "martin, finn e azul.\n"
          ]
        }
      ]
    }
  ]
}